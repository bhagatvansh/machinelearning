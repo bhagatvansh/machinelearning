{
 "cells": [
  {
   "cell_type": "code",
   "execution_count": 1,
   "metadata": {},
   "outputs": [],
   "source": [
    "import numpy as np\n",
    "import pandas as pd\n",
    "import matplotlib.pyplot as plt"
   ]
  },
  {
   "cell_type": "code",
   "execution_count": 2,
   "metadata": {},
   "outputs": [],
   "source": [
    "import tensorflow as tf\n",
    "from tensorflow import keras"
   ]
  },
  {
   "cell_type": "code",
   "execution_count": 3,
   "metadata": {},
   "outputs": [],
   "source": [
    "fashion_mnist = keras.datasets.fashion_mnist"
   ]
  },
  {
   "cell_type": "code",
   "execution_count": 4,
   "metadata": {},
   "outputs": [],
   "source": [
    "(X_train,y_train) , (X_test,y_test) = fashion_mnist.load_data()"
   ]
  },
  {
   "cell_type": "code",
   "execution_count": 5,
   "metadata": {},
   "outputs": [
    {
     "data": {
      "text/plain": [
       "array([[  0,   0,   0,   0,   0,   0,   0,   0,   0,   0,   0,   0,   0,\n",
       "          0,   0,   0,   0,   0,   0,   0,   0,   0,   0,   0,   0,   0,\n",
       "          0,   0],\n",
       "       [  0,   0,   0,   0,   0,   0,   0,   0,   0,   0,   0,   0,   0,\n",
       "          0,   0,   0,   0,   0,   0,   0,   0,   0,   0,   0,   0,   0,\n",
       "          0,   0],\n",
       "       [  0,   0,   0,   0,   0,   0,   0,   0,   0,   0,   0,   0,   0,\n",
       "          0,   0,   0,   0,   0,   0,   0,   0,   0,   0,   0,   0,   0,\n",
       "          0,   0],\n",
       "       [  0,   0,   0,   0,   0,   0,   0,   0,   0,   0,   0,   0,   1,\n",
       "          0,   0,  13,  73,   0,   0,   1,   4,   0,   0,   0,   0,   1,\n",
       "          1,   0],\n",
       "       [  0,   0,   0,   0,   0,   0,   0,   0,   0,   0,   0,   0,   3,\n",
       "          0,  36, 136, 127,  62,  54,   0,   0,   0,   1,   3,   4,   0,\n",
       "          0,   3],\n",
       "       [  0,   0,   0,   0,   0,   0,   0,   0,   0,   0,   0,   0,   6,\n",
       "          0, 102, 204, 176, 134, 144, 123,  23,   0,   0,   0,   0,  12,\n",
       "         10,   0],\n",
       "       [  0,   0,   0,   0,   0,   0,   0,   0,   0,   0,   0,   0,   0,\n",
       "          0, 155, 236, 207, 178, 107, 156, 161, 109,  64,  23,  77, 130,\n",
       "         72,  15],\n",
       "       [  0,   0,   0,   0,   0,   0,   0,   0,   0,   0,   0,   1,   0,\n",
       "         69, 207, 223, 218, 216, 216, 163, 127, 121, 122, 146, 141,  88,\n",
       "        172,  66],\n",
       "       [  0,   0,   0,   0,   0,   0,   0,   0,   0,   1,   1,   1,   0,\n",
       "        200, 232, 232, 233, 229, 223, 223, 215, 213, 164, 127, 123, 196,\n",
       "        229,   0],\n",
       "       [  0,   0,   0,   0,   0,   0,   0,   0,   0,   0,   0,   0,   0,\n",
       "        183, 225, 216, 223, 228, 235, 227, 224, 222, 224, 221, 223, 245,\n",
       "        173,   0],\n",
       "       [  0,   0,   0,   0,   0,   0,   0,   0,   0,   0,   0,   0,   0,\n",
       "        193, 228, 218, 213, 198, 180, 212, 210, 211, 213, 223, 220, 243,\n",
       "        202,   0],\n",
       "       [  0,   0,   0,   0,   0,   0,   0,   0,   0,   1,   3,   0,  12,\n",
       "        219, 220, 212, 218, 192, 169, 227, 208, 218, 224, 212, 226, 197,\n",
       "        209,  52],\n",
       "       [  0,   0,   0,   0,   0,   0,   0,   0,   0,   0,   6,   0,  99,\n",
       "        244, 222, 220, 218, 203, 198, 221, 215, 213, 222, 220, 245, 119,\n",
       "        167,  56],\n",
       "       [  0,   0,   0,   0,   0,   0,   0,   0,   0,   4,   0,   0,  55,\n",
       "        236, 228, 230, 228, 240, 232, 213, 218, 223, 234, 217, 217, 209,\n",
       "         92,   0],\n",
       "       [  0,   0,   1,   4,   6,   7,   2,   0,   0,   0,   0,   0, 237,\n",
       "        226, 217, 223, 222, 219, 222, 221, 216, 223, 229, 215, 218, 255,\n",
       "         77,   0],\n",
       "       [  0,   3,   0,   0,   0,   0,   0,   0,   0,  62, 145, 204, 228,\n",
       "        207, 213, 221, 218, 208, 211, 218, 224, 223, 219, 215, 224, 244,\n",
       "        159,   0],\n",
       "       [  0,   0,   0,   0,  18,  44,  82, 107, 189, 228, 220, 222, 217,\n",
       "        226, 200, 205, 211, 230, 224, 234, 176, 188, 250, 248, 233, 238,\n",
       "        215,   0],\n",
       "       [  0,  57, 187, 208, 224, 221, 224, 208, 204, 214, 208, 209, 200,\n",
       "        159, 245, 193, 206, 223, 255, 255, 221, 234, 221, 211, 220, 232,\n",
       "        246,   0],\n",
       "       [  3, 202, 228, 224, 221, 211, 211, 214, 205, 205, 205, 220, 240,\n",
       "         80, 150, 255, 229, 221, 188, 154, 191, 210, 204, 209, 222, 228,\n",
       "        225,   0],\n",
       "       [ 98, 233, 198, 210, 222, 229, 229, 234, 249, 220, 194, 215, 217,\n",
       "        241,  65,  73, 106, 117, 168, 219, 221, 215, 217, 223, 223, 224,\n",
       "        229,  29],\n",
       "       [ 75, 204, 212, 204, 193, 205, 211, 225, 216, 185, 197, 206, 198,\n",
       "        213, 240, 195, 227, 245, 239, 223, 218, 212, 209, 222, 220, 221,\n",
       "        230,  67],\n",
       "       [ 48, 203, 183, 194, 213, 197, 185, 190, 194, 192, 202, 214, 219,\n",
       "        221, 220, 236, 225, 216, 199, 206, 186, 181, 177, 172, 181, 205,\n",
       "        206, 115],\n",
       "       [  0, 122, 219, 193, 179, 171, 183, 196, 204, 210, 213, 207, 211,\n",
       "        210, 200, 196, 194, 191, 195, 191, 198, 192, 176, 156, 167, 177,\n",
       "        210,  92],\n",
       "       [  0,   0,  74, 189, 212, 191, 175, 172, 175, 181, 185, 188, 189,\n",
       "        188, 193, 198, 204, 209, 210, 210, 211, 188, 188, 194, 192, 216,\n",
       "        170,   0],\n",
       "       [  2,   0,   0,   0,  66, 200, 222, 237, 239, 242, 246, 243, 244,\n",
       "        221, 220, 193, 191, 179, 182, 182, 181, 176, 166, 168,  99,  58,\n",
       "          0,   0],\n",
       "       [  0,   0,   0,   0,   0,   0,   0,  40,  61,  44,  72,  41,  35,\n",
       "          0,   0,   0,   0,   0,   0,   0,   0,   0,   0,   0,   0,   0,\n",
       "          0,   0],\n",
       "       [  0,   0,   0,   0,   0,   0,   0,   0,   0,   0,   0,   0,   0,\n",
       "          0,   0,   0,   0,   0,   0,   0,   0,   0,   0,   0,   0,   0,\n",
       "          0,   0],\n",
       "       [  0,   0,   0,   0,   0,   0,   0,   0,   0,   0,   0,   0,   0,\n",
       "          0,   0,   0,   0,   0,   0,   0,   0,   0,   0,   0,   0,   0,\n",
       "          0,   0]], dtype=uint8)"
      ]
     },
     "execution_count": 5,
     "metadata": {},
     "output_type": "execute_result"
    }
   ],
   "source": [
    "X_train[0]"
   ]
  },
  {
   "cell_type": "code",
   "execution_count": 6,
   "metadata": {},
   "outputs": [
    {
     "data": {
      "text/plain": [
       "<matplotlib.image.AxesImage at 0x278a2a684f0>"
      ]
     },
     "execution_count": 6,
     "metadata": {},
     "output_type": "execute_result"
    },
    {
     "data": {
      "image/png": "[encoded data removed]",
      "text/plain": [
       "<Figure size 432x288 with 1 Axes>"
      ]
     },
     "metadata": {
      "needs_background": "light"
     },
     "output_type": "display_data"
    }
   ],
   "source": [
    "plt.imshow(X_train[0])"
   ]
  },
  {
   "cell_type": "code",
   "execution_count": 7,
   "metadata": {
    "scrolled": true
   },
   "outputs": [
    {
     "data": {
      "text/plain": [
       "9"
      ]
     },
     "execution_count": 7,
     "metadata": {},
     "output_type": "execute_result"
    }
   ],
   "source": [
    "y_train[0]"
   ]
  },
  {
   "cell_type": "code",
   "execution_count": 8,
   "metadata": {},
   "outputs": [],
   "source": [
    "class_names= ['T-shirt/top','Trouser','Pullover','Dress','Coat','Sandal','Shirt','Sneaker','Bag','Ankle boot']"
   ]
  },
  {
   "cell_type": "code",
   "execution_count": 9,
   "metadata": {},
   "outputs": [
    {
     "data": {
      "text/plain": [
       "'Ankle boot'"
      ]
     },
     "execution_count": 9,
     "metadata": {},
     "output_type": "execute_result"
    }
   ],
   "source": [
    "class_names[y_train[0]]"
   ]
  },
  {
   "cell_type": "code",
   "execution_count": 10,
   "metadata": {},
   "outputs": [],
   "source": [
    "X_train_n = X_train/255\n",
    "X_test_n = X_test/255"
   ]
  },
  {
   "cell_type": "code",
   "execution_count": 11,
   "metadata": {},
   "outputs": [],
   "source": [
    "X_valid, X_train = X_train_n[:5000], X_train_n[5000:]\n",
    "y_valid , y_train = y_train[:5000], y_train[5000:]\n",
    "X_test=X_test_n"
   ]
  },
  {
   "cell_type": "code",
   "execution_count": 12,
   "metadata": {},
   "outputs": [],
   "source": [
    "from tensorflow.keras.models import Sequential\n",
    "from tensorflow.keras.layers import Dense, Flatten"
   ]
  },
  {
   "cell_type": "code",
   "execution_count": 13,
   "metadata": {},
   "outputs": [],
   "source": [
    "model = Sequential()"
   ]
  },
  {
   "cell_type": "code",
   "execution_count": 14,
   "metadata": {},
   "outputs": [],
   "source": [
    "model.add(Flatten(input_shape=(28,28)))\n",
    "model.add(Dense(300,activation='relu'))\n",
    "model.add(Dense(100,activation='relu'))\n",
    "model.add(Dense(10,activation='softmax'))"
   ]
  },
  {
   "cell_type": "code",
   "execution_count": 15,
   "metadata": {
    "scrolled": true
   },
   "outputs": [
    {
     "name": "stdout",
     "output_type": "stream",
     "text": [
      "Model: \"sequential\"\n",
      "_________________________________________________________________\n",
      "Layer (type)                 Output Shape              Param #   \n",
      "=================================================================\n",
      "flatten (Flatten)            (None, 784)               0         \n",
      "_________________________________________________________________\n",
      "dense (Dense)                (None, 300)               235500    \n",
      "_________________________________________________________________\n",
      "dense_1 (Dense)              (None, 100)               30100     \n",
      "_________________________________________________________________\n",
      "dense_2 (Dense)              (None, 10)                1010      \n",
      "=================================================================\n",
      "Total params: 266,610\n",
      "Trainable params: 266,610\n",
      "Non-trainable params: 0\n",
      "_________________________________________________________________\n"
     ]
    }
   ],
   "source": [
    "model.summary()"
   ]
  },
  {
   "cell_type": "code",
   "execution_count": 16,
   "metadata": {},
   "outputs": [],
   "source": [
    "weights,biases = model.layers[1].get_weights()"
   ]
  },
  {
   "cell_type": "code",
   "execution_count": 17,
   "metadata": {
    "scrolled": true
   },
   "outputs": [
    {
     "data": {
      "text/plain": [
       "array([[-0.0716969 ,  0.05075966, -0.06518507, ...,  0.04410237,\n",
       "        -0.07204607, -0.06100587],\n",
       "       [ 0.05470254, -0.05812196, -0.06923594, ..., -0.01225744,\n",
       "        -0.02022901, -0.01354736],\n",
       "       [ 0.04951013, -0.05425009,  0.06006177, ..., -0.05514576,\n",
       "        -0.04743265,  0.02385528],\n",
       "       ...,\n",
       "       [ 0.00501591, -0.07250114, -0.02206672, ...,  0.01177771,\n",
       "        -0.05119529,  0.02245905],\n",
       "       [-0.00557958, -0.03020497, -0.04254291, ...,  0.04109025,\n",
       "         0.04358011, -0.0728223 ],\n",
       "       [-0.05791181,  0.04231626,  0.02426854, ..., -0.00928589,\n",
       "        -0.00317488,  0.04783216]], dtype=float32)"
      ]
     },
     "execution_count": 17,
     "metadata": {},
     "output_type": "execute_result"
    }
   ],
   "source": [
    "weights"
   ]
  },
  {
   "cell_type": "code",
   "execution_count": 18,
   "metadata": {},
   "outputs": [
    {
     "data": {
      "text/plain": [
       "(784, 300)"
      ]
     },
     "execution_count": 18,
     "metadata": {},
     "output_type": "execute_result"
    }
   ],
   "source": [
    "weights.shape"
   ]
  },
  {
   "cell_type": "code",
   "execution_count": 19,
   "metadata": {},
   "outputs": [
    {
     "data": {
      "text/plain": [
       "array([0., 0., 0., 0., 0., 0., 0., 0., 0., 0., 0., 0., 0., 0., 0., 0., 0.,\n",
       "       0., 0., 0., 0., 0., 0., 0., 0., 0., 0., 0., 0., 0., 0., 0., 0., 0.,\n",
       "       0., 0., 0., 0., 0., 0., 0., 0., 0., 0., 0., 0., 0., 0., 0., 0., 0.,\n",
       "       0., 0., 0., 0., 0., 0., 0., 0., 0., 0., 0., 0., 0., 0., 0., 0., 0.,\n",
       "       0., 0., 0., 0., 0., 0., 0., 0., 0., 0., 0., 0., 0., 0., 0., 0., 0.,\n",
       "       0., 0., 0., 0., 0., 0., 0., 0., 0., 0., 0., 0., 0., 0., 0., 0., 0.,\n",
       "       0., 0., 0., 0., 0., 0., 0., 0., 0., 0., 0., 0., 0., 0., 0., 0., 0.,\n",
       "       0., 0., 0., 0., 0., 0., 0., 0., 0., 0., 0., 0., 0., 0., 0., 0., 0.,\n",
       "       0., 0., 0., 0., 0., 0., 0., 0., 0., 0., 0., 0., 0., 0., 0., 0., 0.,\n",
       "       0., 0., 0., 0., 0., 0., 0., 0., 0., 0., 0., 0., 0., 0., 0., 0., 0.,\n",
       "       0., 0., 0., 0., 0., 0., 0., 0., 0., 0., 0., 0., 0., 0., 0., 0., 0.,\n",
       "       0., 0., 0., 0., 0., 0., 0., 0., 0., 0., 0., 0., 0., 0., 0., 0., 0.,\n",
       "       0., 0., 0., 0., 0., 0., 0., 0., 0., 0., 0., 0., 0., 0., 0., 0., 0.,\n",
       "       0., 0., 0., 0., 0., 0., 0., 0., 0., 0., 0., 0., 0., 0., 0., 0., 0.,\n",
       "       0., 0., 0., 0., 0., 0., 0., 0., 0., 0., 0., 0., 0., 0., 0., 0., 0.,\n",
       "       0., 0., 0., 0., 0., 0., 0., 0., 0., 0., 0., 0., 0., 0., 0., 0., 0.,\n",
       "       0., 0., 0., 0., 0., 0., 0., 0., 0., 0., 0., 0., 0., 0., 0., 0., 0.,\n",
       "       0., 0., 0., 0., 0., 0., 0., 0., 0., 0., 0.], dtype=float32)"
      ]
     },
     "execution_count": 19,
     "metadata": {},
     "output_type": "execute_result"
    }
   ],
   "source": [
    "biases"
   ]
  },
  {
   "cell_type": "code",
   "execution_count": 20,
   "metadata": {},
   "outputs": [
    {
     "data": {
      "text/plain": [
       "(300,)"
      ]
     },
     "execution_count": 20,
     "metadata": {},
     "output_type": "execute_result"
    }
   ],
   "source": [
    "biases.shape"
   ]
  },
  {
   "cell_type": "code",
   "execution_count": 21,
   "metadata": {},
   "outputs": [],
   "source": [
    "model.compile(loss='sparse_categorical_crossentropy',optimizer='sgd',metrics=['accuracy'])"
   ]
  },
  {
   "cell_type": "code",
   "execution_count": 22,
   "metadata": {},
   "outputs": [
    {
     "name": "stdout",
     "output_type": "stream",
     "text": [
      "Epoch 1/60\n",
      "1719/1719 [==============================] - 7s 4ms/step - loss: 1.0267 - accuracy: 0.6688 - val_loss: 0.5212 - val_accuracy: 0.8230\n",
      "Epoch 2/60\n",
      "1719/1719 [==============================] - 5s 3ms/step - loss: 0.5091 - accuracy: 0.8224 - val_loss: 0.4680 - val_accuracy: 0.8360\n",
      "Epoch 3/60\n",
      "1719/1719 [==============================] - 5s 3ms/step - loss: 0.4561 - accuracy: 0.8416 - val_loss: 0.4238 - val_accuracy: 0.8570\n",
      "Epoch 4/60\n",
      "1719/1719 [==============================] - 5s 3ms/step - loss: 0.4197 - accuracy: 0.8515 - val_loss: 0.3983 - val_accuracy: 0.8636\n",
      "Epoch 5/60\n",
      "1719/1719 [==============================] - 5s 3ms/step - loss: 0.4039 - accuracy: 0.8575 - val_loss: 0.3776 - val_accuracy: 0.8708\n",
      "Epoch 6/60\n",
      "1719/1719 [==============================] - 5s 3ms/step - loss: 0.3789 - accuracy: 0.8675 - val_loss: 0.3648 - val_accuracy: 0.8736\n",
      "Epoch 7/60\n",
      "1719/1719 [==============================] - 5s 3ms/step - loss: 0.3656 - accuracy: 0.8698 - val_loss: 0.3626 - val_accuracy: 0.8718\n",
      "Epoch 8/60\n",
      "1719/1719 [==============================] - 5s 3ms/step - loss: 0.3559 - accuracy: 0.8719 - val_loss: 0.3840 - val_accuracy: 0.8624\n",
      "Epoch 9/60\n",
      "1719/1719 [==============================] - 5s 3ms/step - loss: 0.3405 - accuracy: 0.8781 - val_loss: 0.3551 - val_accuracy: 0.8750\n",
      "Epoch 10/60\n",
      "1719/1719 [==============================] - 5s 3ms/step - loss: 0.3378 - accuracy: 0.8796 - val_loss: 0.3483 - val_accuracy: 0.8754\n",
      "Epoch 11/60\n",
      "1719/1719 [==============================] - 5s 3ms/step - loss: 0.3262 - accuracy: 0.8818 - val_loss: 0.3343 - val_accuracy: 0.8784\n",
      "Epoch 12/60\n",
      "1719/1719 [==============================] - 5s 3ms/step - loss: 0.3240 - accuracy: 0.8828 - val_loss: 0.3477 - val_accuracy: 0.8784\n",
      "Epoch 13/60\n",
      "1719/1719 [==============================] - 5s 3ms/step - loss: 0.3127 - accuracy: 0.8880 - val_loss: 0.3485 - val_accuracy: 0.8762\n",
      "Epoch 14/60\n",
      "1719/1719 [==============================] - 5s 3ms/step - loss: 0.3062 - accuracy: 0.8915 - val_loss: 0.3305 - val_accuracy: 0.8806\n",
      "Epoch 15/60\n",
      "1719/1719 [==============================] - 5s 3ms/step - loss: 0.2936 - accuracy: 0.8946 - val_loss: 0.3172 - val_accuracy: 0.8882\n",
      "Epoch 16/60\n",
      "1719/1719 [==============================] - 5s 3ms/step - loss: 0.2899 - accuracy: 0.8954 - val_loss: 0.3327 - val_accuracy: 0.8842\n",
      "Epoch 17/60\n",
      "1719/1719 [==============================] - 5s 3ms/step - loss: 0.2856 - accuracy: 0.8979 - val_loss: 0.3309 - val_accuracy: 0.8830\n",
      "Epoch 18/60\n",
      "1719/1719 [==============================] - 5s 3ms/step - loss: 0.2769 - accuracy: 0.9000 - val_loss: 0.3462 - val_accuracy: 0.8774\n",
      "Epoch 19/60\n",
      "1719/1719 [==============================] - 5s 3ms/step - loss: 0.2764 - accuracy: 0.9014 - val_loss: 0.3219 - val_accuracy: 0.8846\n",
      "Epoch 20/60\n",
      "1719/1719 [==============================] - 5s 3ms/step - loss: 0.2707 - accuracy: 0.8999 - val_loss: 0.3139 - val_accuracy: 0.8878\n",
      "Epoch 21/60\n",
      "1719/1719 [==============================] - 5s 3ms/step - loss: 0.2678 - accuracy: 0.9034 - val_loss: 0.3107 - val_accuracy: 0.8888\n",
      "Epoch 22/60\n",
      "1719/1719 [==============================] - 5s 3ms/step - loss: 0.2575 - accuracy: 0.9063 - val_loss: 0.3051 - val_accuracy: 0.8886\n",
      "Epoch 23/60\n",
      "1719/1719 [==============================] - 5s 3ms/step - loss: 0.2579 - accuracy: 0.9070 - val_loss: 0.3012 - val_accuracy: 0.8948\n",
      "Epoch 24/60\n",
      "1719/1719 [==============================] - 5s 3ms/step - loss: 0.2552 - accuracy: 0.9072 - val_loss: 0.3034 - val_accuracy: 0.8888\n",
      "Epoch 25/60\n",
      "1719/1719 [==============================] - 5s 3ms/step - loss: 0.2473 - accuracy: 0.9113 - val_loss: 0.2976 - val_accuracy: 0.8908\n",
      "Epoch 26/60\n",
      "1719/1719 [==============================] - 5s 3ms/step - loss: 0.2442 - accuracy: 0.9105 - val_loss: 0.2929 - val_accuracy: 0.8936\n",
      "Epoch 27/60\n",
      "1719/1719 [==============================] - 5s 3ms/step - loss: 0.2356 - accuracy: 0.9159 - val_loss: 0.3314 - val_accuracy: 0.8850\n",
      "Epoch 28/60\n",
      "1719/1719 [==============================] - 5s 3ms/step - loss: 0.2332 - accuracy: 0.9176 - val_loss: 0.2893 - val_accuracy: 0.8942\n",
      "Epoch 29/60\n",
      "1719/1719 [==============================] - 5s 3ms/step - loss: 0.2302 - accuracy: 0.9190 - val_loss: 0.3036 - val_accuracy: 0.8918\n",
      "Epoch 30/60\n",
      "1719/1719 [==============================] - 5s 3ms/step - loss: 0.2280 - accuracy: 0.9174 - val_loss: 0.2900 - val_accuracy: 0.8938\n",
      "Epoch 31/60\n",
      "1719/1719 [==============================] - 5s 3ms/step - loss: 0.2253 - accuracy: 0.9194 - val_loss: 0.2962 - val_accuracy: 0.8906\n",
      "Epoch 32/60\n",
      "1719/1719 [==============================] - 5s 3ms/step - loss: 0.2170 - accuracy: 0.9221 - val_loss: 0.2939 - val_accuracy: 0.8912\n",
      "Epoch 33/60\n",
      "1719/1719 [==============================] - 5s 3ms/step - loss: 0.2154 - accuracy: 0.9232 - val_loss: 0.2836 - val_accuracy: 0.8940\n",
      "Epoch 34/60\n",
      "1719/1719 [==============================] - 5s 3ms/step - loss: 0.2134 - accuracy: 0.9254 - val_loss: 0.3148 - val_accuracy: 0.8820\n",
      "Epoch 35/60\n",
      "1719/1719 [==============================] - 5s 3ms/step - loss: 0.2142 - accuracy: 0.9236 - val_loss: 0.2903 - val_accuracy: 0.8920\n",
      "Epoch 36/60\n",
      "1719/1719 [==============================] - 5s 3ms/step - loss: 0.2072 - accuracy: 0.9266 - val_loss: 0.3055 - val_accuracy: 0.8898\n",
      "Epoch 37/60\n",
      "1719/1719 [==============================] - 5s 3ms/step - loss: 0.2010 - accuracy: 0.9290 - val_loss: 0.3134 - val_accuracy: 0.8934\n",
      "Epoch 38/60\n",
      "1719/1719 [==============================] - 6s 3ms/step - loss: 0.1977 - accuracy: 0.9302 - val_loss: 0.2911 - val_accuracy: 0.8948\n",
      "Epoch 39/60\n",
      "1719/1719 [==============================] - 5s 3ms/step - loss: 0.1964 - accuracy: 0.9292 - val_loss: 0.2862 - val_accuracy: 0.8988\n",
      "Epoch 40/60\n",
      "1719/1719 [==============================] - 5s 3ms/step - loss: 0.1937 - accuracy: 0.9302 - val_loss: 0.2974 - val_accuracy: 0.8896\n",
      "Epoch 41/60\n",
      "1719/1719 [==============================] - 5s 3ms/step - loss: 0.1910 - accuracy: 0.9310 - val_loss: 0.2913 - val_accuracy: 0.8928\n",
      "Epoch 42/60\n",
      "1719/1719 [==============================] - 5s 3ms/step - loss: 0.1890 - accuracy: 0.9341 - val_loss: 0.3042 - val_accuracy: 0.8890\n",
      "Epoch 43/60\n",
      "1719/1719 [==============================] - 5s 3ms/step - loss: 0.1835 - accuracy: 0.9353 - val_loss: 0.2927 - val_accuracy: 0.8938\n",
      "Epoch 44/60\n",
      "1719/1719 [==============================] - 5s 3ms/step - loss: 0.1840 - accuracy: 0.9342 - val_loss: 0.2877 - val_accuracy: 0.8968\n",
      "Epoch 45/60\n",
      "1719/1719 [==============================] - 5s 3ms/step - loss: 0.1813 - accuracy: 0.9357 - val_loss: 0.2881 - val_accuracy: 0.8986\n",
      "Epoch 46/60\n",
      "1719/1719 [==============================] - 5s 3ms/step - loss: 0.1761 - accuracy: 0.9370 - val_loss: 0.2916 - val_accuracy: 0.8952\n",
      "Epoch 47/60\n",
      "1719/1719 [==============================] - 5s 3ms/step - loss: 0.1715 - accuracy: 0.9389 - val_loss: 0.2846 - val_accuracy: 0.8996\n",
      "Epoch 48/60\n",
      "1719/1719 [==============================] - 5s 3ms/step - loss: 0.1691 - accuracy: 0.9404 - val_loss: 0.2928 - val_accuracy: 0.8974\n",
      "Epoch 49/60\n",
      "1719/1719 [==============================] - 5s 3ms/step - loss: 0.1674 - accuracy: 0.9420 - val_loss: 0.2911 - val_accuracy: 0.8958\n",
      "Epoch 50/60\n",
      "1719/1719 [==============================] - 5s 3ms/step - loss: 0.1673 - accuracy: 0.9407 - val_loss: 0.2948 - val_accuracy: 0.8944\n",
      "Epoch 51/60\n",
      "1719/1719 [==============================] - 5s 3ms/step - loss: 0.1677 - accuracy: 0.9408 - val_loss: 0.2891 - val_accuracy: 0.9000\n",
      "Epoch 52/60\n",
      "1719/1719 [==============================] - 5s 3ms/step - loss: 0.1594 - accuracy: 0.9438 - val_loss: 0.2964 - val_accuracy: 0.8950\n",
      "Epoch 53/60\n",
      "1719/1719 [==============================] - 5s 3ms/step - loss: 0.1560 - accuracy: 0.9461 - val_loss: 0.3098 - val_accuracy: 0.8896\n",
      "Epoch 54/60\n",
      "1719/1719 [==============================] - 5s 3ms/step - loss: 0.1547 - accuracy: 0.9462 - val_loss: 0.2944 - val_accuracy: 0.8976\n",
      "Epoch 55/60\n",
      "1719/1719 [==============================] - 5s 3ms/step - loss: 0.1540 - accuracy: 0.9459 - val_loss: 0.2965 - val_accuracy: 0.8950\n",
      "Epoch 56/60\n",
      "1719/1719 [==============================] - 5s 3ms/step - loss: 0.1472 - accuracy: 0.9478 - val_loss: 0.3060 - val_accuracy: 0.8928\n",
      "Epoch 57/60\n"
     ]
    },
    {
     "name": "stdout",
     "output_type": "stream",
     "text": [
      "1719/1719 [==============================] - 5s 3ms/step - loss: 0.1479 - accuracy: 0.9477 - val_loss: 0.3049 - val_accuracy: 0.9006\n",
      "Epoch 58/60\n",
      "1719/1719 [==============================] - 5s 3ms/step - loss: 0.1475 - accuracy: 0.9470 - val_loss: 0.2941 - val_accuracy: 0.8990\n",
      "Epoch 59/60\n",
      "1719/1719 [==============================] - 5s 3ms/step - loss: 0.1430 - accuracy: 0.9492 - val_loss: 0.2827 - val_accuracy: 0.9008\n",
      "Epoch 60/60\n",
      "1719/1719 [==============================] - 5s 3ms/step - loss: 0.1445 - accuracy: 0.9491 - val_loss: 0.2917 - val_accuracy: 0.8994\n"
     ]
    },
    {
     "data": {
      "text/plain": [
       "<tensorflow.python.keras.callbacks.History at 0x278aa13af10>"
      ]
     },
     "execution_count": 22,
     "metadata": {},
     "output_type": "execute_result"
    }
   ],
   "source": [
    "model.fit(X_train,y_train,epochs=60,validation_data=(X_valid,y_valid))"
   ]
  },
  {
   "cell_type": "code",
   "execution_count": 23,
   "metadata": {},
   "outputs": [
    {
     "data": {
      "image/png": "[encoded data removed]",
      "text/plain": [
       "<Figure size 720x432 with 1 Axes>"
      ]
     },
     "metadata": {
      "needs_background": "light"
     },
     "output_type": "display_data"
    }
   ],
   "source": [
    "pd.DataFrame(model.history.history).plot(figsize=(10,6))\n",
    "plt.grid(True)\n",
    "plt.gca().set_ylim(0,1)\n",
    "plt.show()"
   ]
  },
  {
   "cell_type": "code",
   "execution_count": 24,
   "metadata": {},
   "outputs": [],
   "source": [
    "loss=model.history.history"
   ]
  },
  {
   "cell_type": "code",
   "execution_count": 25,
   "metadata": {},
   "outputs": [
    {
     "data": {
      "text/plain": [
       "{'loss': [0.7377421259880066,\n",
       "  0.49256858229637146,\n",
       "  0.44458386301994324,\n",
       "  0.41486984491348267,\n",
       "  0.3962879180908203,\n",
       "  0.3788347542285919,\n",
       "  0.3655451834201813,\n",
       "  0.35388821363449097,\n",
       "  0.3444318473339081,\n",
       "  0.3349530100822449,\n",
       "  0.3273330330848694,\n",
       "  0.3186150789260864,\n",
       "  0.3110297620296478,\n",
       "  0.3040160834789276,\n",
       "  0.29792964458465576,\n",
       "  0.2910422086715698,\n",
       "  0.2862725555896759,\n",
       "  0.28002747893333435,\n",
       "  0.27560797333717346,\n",
       "  0.2712969183921814,\n",
       "  0.26614829897880554,\n",
       "  0.2612748444080353,\n",
       "  0.2563571631908417,\n",
       "  0.2532777488231659,\n",
       "  0.2481945902109146,\n",
       "  0.24373577535152435,\n",
       "  0.23974627256393433,\n",
       "  0.23673737049102783,\n",
       "  0.23222096264362335,\n",
       "  0.22859856486320496,\n",
       "  0.22580261528491974,\n",
       "  0.22207970917224884,\n",
       "  0.2180769294500351,\n",
       "  0.21469223499298096,\n",
       "  0.2123337835073471,\n",
       "  0.2083400934934616,\n",
       "  0.20549295842647552,\n",
       "  0.20119132101535797,\n",
       "  0.19836512207984924,\n",
       "  0.19512175023555756,\n",
       "  0.19223272800445557,\n",
       "  0.18978329002857208,\n",
       "  0.18651705980300903,\n",
       "  0.18407870829105377,\n",
       "  0.1818145215511322,\n",
       "  0.1778911054134369,\n",
       "  0.17630469799041748,\n",
       "  0.17307604849338531,\n",
       "  0.17016343772411346,\n",
       "  0.16741473972797394,\n",
       "  0.16629472374916077,\n",
       "  0.16209961473941803,\n",
       "  0.15937814116477966,\n",
       "  0.15854375064373016,\n",
       "  0.1551433801651001,\n",
       "  0.1529914289712906,\n",
       "  0.15063856542110443,\n",
       "  0.1484343707561493,\n",
       "  0.14563004672527313,\n",
       "  0.14465123414993286],\n",
       " 'accuracy': [0.7543272972106934,\n",
       "  0.8287818431854248,\n",
       "  0.8436363339424133,\n",
       "  0.8531818389892578,\n",
       "  0.8600363731384277,\n",
       "  0.865781843662262,\n",
       "  0.8698363900184631,\n",
       "  0.8746363520622253,\n",
       "  0.8768545389175415,\n",
       "  0.8802545666694641,\n",
       "  0.8822545409202576,\n",
       "  0.8859999775886536,\n",
       "  0.8883273005485535,\n",
       "  0.8912363648414612,\n",
       "  0.8930000066757202,\n",
       "  0.8948000073432922,\n",
       "  0.8969636559486389,\n",
       "  0.8993454575538635,\n",
       "  0.9014363884925842,\n",
       "  0.9014182090759277,\n",
       "  0.9040363430976868,\n",
       "  0.9052909016609192,\n",
       "  0.9076363444328308,\n",
       "  0.9082727432250977,\n",
       "  0.9113273024559021,\n",
       "  0.9121272563934326,\n",
       "  0.913527250289917,\n",
       "  0.9155272841453552,\n",
       "  0.9165454506874084,\n",
       "  0.9174181818962097,\n",
       "  0.9188181757926941,\n",
       "  0.9193454384803772,\n",
       "  0.9223636388778687,\n",
       "  0.923763632774353,\n",
       "  0.9245454668998718,\n",
       "  0.9253090620040894,\n",
       "  0.9273636341094971,\n",
       "  0.9285091161727905,\n",
       "  0.928600013256073,\n",
       "  0.9307090640068054,\n",
       "  0.9306545257568359,\n",
       "  0.9323636293411255,\n",
       "  0.9338726997375488,\n",
       "  0.9336727261543274,\n",
       "  0.9352363348007202,\n",
       "  0.9365817904472351,\n",
       "  0.9374545216560364,\n",
       "  0.9390909075737,\n",
       "  0.9402727484703064,\n",
       "  0.940781831741333,\n",
       "  0.94074547290802,\n",
       "  0.9423636198043823,\n",
       "  0.944454550743103,\n",
       "  0.9442363381385803,\n",
       "  0.9454545378684998,\n",
       "  0.9461454749107361,\n",
       "  0.9461636543273926,\n",
       "  0.9471454620361328,\n",
       "  0.9477818012237549,\n",
       "  0.9488727450370789],\n",
       " 'val_loss': [0.5212132334709167,\n",
       "  0.4679988622665405,\n",
       "  0.4237692952156067,\n",
       "  0.39830532670021057,\n",
       "  0.377601683139801,\n",
       "  0.364768385887146,\n",
       "  0.36255571246147156,\n",
       "  0.38396379351615906,\n",
       "  0.35513031482696533,\n",
       "  0.3482801616191864,\n",
       "  0.33428534865379333,\n",
       "  0.3476615250110626,\n",
       "  0.348524808883667,\n",
       "  0.3305254876613617,\n",
       "  0.31723228096961975,\n",
       "  0.3326781392097473,\n",
       "  0.33093902468681335,\n",
       "  0.34617480635643005,\n",
       "  0.32194653153419495,\n",
       "  0.31389227509498596,\n",
       "  0.3107329308986664,\n",
       "  0.3051435351371765,\n",
       "  0.30116933584213257,\n",
       "  0.3033859431743622,\n",
       "  0.29762059450149536,\n",
       "  0.2929304540157318,\n",
       "  0.33141109347343445,\n",
       "  0.28925517201423645,\n",
       "  0.303605854511261,\n",
       "  0.2900482714176178,\n",
       "  0.29617464542388916,\n",
       "  0.2938736379146576,\n",
       "  0.2836129367351532,\n",
       "  0.31477561593055725,\n",
       "  0.2902538478374481,\n",
       "  0.30554354190826416,\n",
       "  0.313389390707016,\n",
       "  0.29108598828315735,\n",
       "  0.28616124391555786,\n",
       "  0.29738518595695496,\n",
       "  0.291277676820755,\n",
       "  0.3041606545448303,\n",
       "  0.29270267486572266,\n",
       "  0.28765133023262024,\n",
       "  0.2881086766719818,\n",
       "  0.29160889983177185,\n",
       "  0.2845643162727356,\n",
       "  0.2927926778793335,\n",
       "  0.29114285111427307,\n",
       "  0.29482144117355347,\n",
       "  0.28906014561653137,\n",
       "  0.2963669002056122,\n",
       "  0.3097761571407318,\n",
       "  0.29438409209251404,\n",
       "  0.296468585729599,\n",
       "  0.30596625804901123,\n",
       "  0.3049090802669525,\n",
       "  0.294109046459198,\n",
       "  0.28268203139305115,\n",
       "  0.29171156883239746],\n",
       " 'val_accuracy': [0.8230000138282776,\n",
       "  0.8360000252723694,\n",
       "  0.8569999933242798,\n",
       "  0.8636000156402588,\n",
       "  0.8708000183105469,\n",
       "  0.8736000061035156,\n",
       "  0.8718000054359436,\n",
       "  0.8623999953269958,\n",
       "  0.875,\n",
       "  0.8754000067710876,\n",
       "  0.8784000277519226,\n",
       "  0.8784000277519226,\n",
       "  0.8762000203132629,\n",
       "  0.8805999755859375,\n",
       "  0.8881999850273132,\n",
       "  0.8841999769210815,\n",
       "  0.8830000162124634,\n",
       "  0.8773999810218811,\n",
       "  0.8845999836921692,\n",
       "  0.8877999782562256,\n",
       "  0.8888000249862671,\n",
       "  0.8885999917984009,\n",
       "  0.8948000073432922,\n",
       "  0.8888000249862671,\n",
       "  0.8907999992370605,\n",
       "  0.8935999870300293,\n",
       "  0.8849999904632568,\n",
       "  0.8942000269889832,\n",
       "  0.8917999863624573,\n",
       "  0.8938000202178955,\n",
       "  0.8906000256538391,\n",
       "  0.8912000060081482,\n",
       "  0.8939999938011169,\n",
       "  0.8820000290870667,\n",
       "  0.8920000195503235,\n",
       "  0.8898000121116638,\n",
       "  0.8934000134468079,\n",
       "  0.8948000073432922,\n",
       "  0.8988000154495239,\n",
       "  0.8895999789237976,\n",
       "  0.892799973487854,\n",
       "  0.8889999985694885,\n",
       "  0.8938000202178955,\n",
       "  0.8967999815940857,\n",
       "  0.8985999822616577,\n",
       "  0.8952000141143799,\n",
       "  0.8996000289916992,\n",
       "  0.8974000215530396,\n",
       "  0.895799994468689,\n",
       "  0.8944000005722046,\n",
       "  0.8999999761581421,\n",
       "  0.8949999809265137,\n",
       "  0.8895999789237976,\n",
       "  0.897599995136261,\n",
       "  0.8949999809265137,\n",
       "  0.892799973487854,\n",
       "  0.900600016117096,\n",
       "  0.8989999890327454,\n",
       "  0.9007999897003174,\n",
       "  0.899399995803833]}"
      ]
     },
     "execution_count": 25,
     "metadata": {},
     "output_type": "execute_result"
    }
   ],
   "source": [
    "loss"
   ]
  },
  {
   "cell_type": "code",
   "execution_count": 26,
   "metadata": {},
   "outputs": [
    {
     "name": "stdout",
     "output_type": "stream",
     "text": [
      "313/313 [==============================] - 1s 2ms/step - loss: 0.3334 - accuracy: 0.8920\n"
     ]
    },
    {
     "data": {
      "text/plain": [
       "[0.33339086174964905, 0.8920000195503235]"
      ]
     },
     "execution_count": 26,
     "metadata": {},
     "output_type": "execute_result"
    }
   ],
   "source": [
    "model.evaluate(X_test,y_test)"
   ]
  },
  {
   "cell_type": "code",
   "execution_count": 27,
   "metadata": {},
   "outputs": [],
   "source": [
    "X_new=X_test[:3]"
   ]
  },
  {
   "cell_type": "code",
   "execution_count": 28,
   "metadata": {},
   "outputs": [
    {
     "data": {
      "text/plain": [
       "array([[0., 0., 0., 0., 0., 0., 0., 0., 0., 1.],\n",
       "       [0., 0., 1., 0., 0., 0., 0., 0., 0., 0.],\n",
       "       [0., 1., 0., 0., 0., 0., 0., 0., 0., 0.]], dtype=float32)"
      ]
     },
     "execution_count": 28,
     "metadata": {},
     "output_type": "execute_result"
    }
   ],
   "source": [
    "y_proba=model.predict(X_new)\n",
    "y_proba.round(2)"
   ]
  },
  {
   "cell_type": "code",
   "execution_count": 29,
   "metadata": {},
   "outputs": [
    {
     "name": "stderr",
     "output_type": "stream",
     "text": [
      "D:\\Anaconda\\lib\\site-packages\\tensorflow\\python\\keras\\engine\\sequential.py:450: UserWarning: `model.predict_classes()` is deprecated and will be removed after 2021-01-01. Please use instead:* `np.argmax(model.predict(x), axis=-1)`,   if your model does multi-class classification   (e.g. if it uses a `softmax` last-layer activation).* `(model.predict(x) > 0.5).astype(\"int32\")`,   if your model does binary classification   (e.g. if it uses a `sigmoid` last-layer activation).\n",
      "  warnings.warn('`model.predict_classes()` is deprecated and '\n"
     ]
    },
    {
     "data": {
      "text/plain": [
       "array([9, 2, 1], dtype=int64)"
      ]
     },
     "execution_count": 29,
     "metadata": {},
     "output_type": "execute_result"
    }
   ],
   "source": [
    "y_pred=model.predict_classes(X_new)\n",
    "y_pred"
   ]
  },
  {
   "cell_type": "code",
   "execution_count": 30,
   "metadata": {},
   "outputs": [
    {
     "data": {
      "text/plain": [
       "array(['Ankle boot', 'Pullover', 'Trouser'], dtype='<U11')"
      ]
     },
     "execution_count": 30,
     "metadata": {},
     "output_type": "execute_result"
    }
   ],
   "source": [
    "np.array(class_names)[y_pred]"
   ]
  },
  {
   "cell_type": "code",
   "execution_count": 31,
   "metadata": {},
   "outputs": [
    {
     "data": {
      "text/plain": [
       "<matplotlib.image.AxesImage at 0x278c79c4310>"
      ]
     },
     "execution_count": 31,
     "metadata": {},
     "output_type": "execute_result"
    },
    {
     "data": {
      "image/png": "[encoded data removed]",
      "text/plain": [
       "<Figure size 432x288 with 1 Axes>"
      ]
     },
     "metadata": {
      "needs_background": "light"
     },
     "output_type": "display_data"
    }
   ],
   "source": [
    "plt.imshow(X_test[0])"
   ]
  },
  {
   "cell_type": "code",
   "execution_count": 32,
   "metadata": {},
   "outputs": [
    {
     "data": {
      "text/plain": [
       "<matplotlib.image.AxesImage at 0x278c7a779d0>"
      ]
     },
     "execution_count": 32,
     "metadata": {},
     "output_type": "execute_result"
    },
    {
     "data": {
      "image/png": "[encoded data removed]",
      "text/plain": [
       "<Figure size 432x288 with 1 Axes>"
      ]
     },
     "metadata": {
      "needs_background": "light"
     },
     "output_type": "display_data"
    }
   ],
   "source": [
    "plt.imshow(X_test[1])"
   ]
  },
  {
   "cell_type": "code",
   "execution_count": 34,
   "metadata": {},
   "outputs": [
    {
     "data": {
      "text/plain": [
       "<matplotlib.image.AxesImage at 0x278c5c10dc0>"
      ]
     },
     "execution_count": 34,
     "metadata": {},
     "output_type": "execute_result"
    },
    {
     "data": {
      "image/png": "[encoded data removed]",
      "text/plain": [
       "<Figure size 432x288 with 1 Axes>"
      ]
     },
     "metadata": {
      "needs_background": "light"
     },
     "output_type": "display_data"
    }
   ],
   "source": [
    "plt.imshow(X_test[2])"
   ]
  },
  {
   "cell_type": "code",
   "execution_count": null,
   "metadata": {},
   "outputs": [],
   "source": []
  }
 ],
 "metadata": {
  "kernelspec": {
   "display_name": "Python 3",
   "language": "python",
   "name": "python3"
  },
  "language_info": {
   "codemirror_mode": {
    "name": "ipython",
    "version": 3
   },
   "file_extension": ".py",
   "mimetype": "text/x-python",
   "name": "python",
   "nbconvert_exporter": "python",
   "pygments_lexer": "ipython3",
   "version": "3.8.3"
  }
 },
 "nbformat": 4,
 "nbformat_minor": 4
}
